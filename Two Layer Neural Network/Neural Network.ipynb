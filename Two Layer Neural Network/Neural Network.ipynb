{
 "cells": [
  {
   "cell_type": "markdown",
   "metadata": {},
   "source": [
    "## Two Layer Neural Network\n",
    "\n",
   ]
  },
  {
   "cell_type": "code",
   "execution_count": 1,
   "metadata": {},
   "outputs": [],
   "source": [
    "import matplotlib.pyplot as plt\n",
    "import numpy as np"
   ]
  },
  {
   "cell_type": "code",
   "execution_count": 17,
   "metadata": {},
   "outputs": [],
   "source": [
    "class Neural_Network(object):\n",
    "    def __init__(self):        \n",
    "        #Define Hyperparameters\n",
    "        self.inputLayerSize = 1\n",
    "        self.outputLayerSize = 1\n",
    "        self.hiddenLayerSize = 40\n",
    "        \n",
    "        #Weights (parameters)\n",
    "        self.W1 = np.random.randn(self.inputLayerSize,self.hiddenLayerSize)\n",
    "        self.W2 = np.random.randn(self.hiddenLayerSize,self.outputLayerSize)\n",
    "        self.b1 = np.zeros((1, self.hiddenLayerSize))\n",
    "        self.b2 = np.zeros((1, self.outputLayerSize))\n",
    "        \n",
    "    def forward(self, X):\n",
    "        #Propogate inputs though network\n",
    "        self.z2 = np.dot(X, self.W1) + self.b1\n",
    "        self.a2 = np.tanh(self.z2)\n",
    "        self.z3 = np.dot(self.a2, self.W2) + self.b2\n",
    "        yHat = self.z3 \n",
    "        return yHat\n",
    "        \n",
    "    def costFunction(self, X, y):\n",
    "        #Compute cost for given X,y.\n",
    "        self.yHat = self.forward(X)\n",
    "        J = 0.5*sum((y-self.yHat)**2)\n",
    "        return J\n",
    "    \n",
    "    def tanh_derivative(self, z): \n",
    "        #Compute derivative of tanh\n",
    "        return (1 - np.power(np.tanh(z), 2))    \n",
    "    \n",
    "    def costFunctionPrime(self, X, y):\n",
    "        #Compute derivative with respect to W and W2 for a given X and y:\n",
    "        self.yHat = self.forward(X)\n",
    "        \n",
    "        delta3 = -(y-self.yHat)\n",
    "        dJdW2 = np.dot(self.a2.T, delta3)\n",
    "        dJdb2 = np.sum(delta3, axis=0)\n",
    "        delta2 = np.multiply(np.dot(delta3, self.W2.T), self.tanh_derivative(self.z2))\n",
    "        dJdW1 = np.dot(X.T, delta2) \n",
    "        dJdb1 = np.sum(delta2, axis=0)\n",
    "        \n",
    "        return dJdW1, dJdW2, dJdb1, dJdb2\n",
    "    \n",
    "    def train(self, learning_rate):\n",
    "        #Training the neural network with desired learning rate\n",
    "        cost = []\n",
    "        for i in range(50000):\n",
    "            dJdW1, dJdW2, dJdb1, dJdb2 = self.costFunctionPrime(X,y)\n",
    "            self.W1 = self.W1 - learning_rate*dJdW1\n",
    "            self.W2 = self.W2 - learning_rate*dJdW2\n",
    "            self.b1 = self.b1 - learning_rate*dJdb1\n",
    "            self.b2 = self.b2 - learning_rate*dJdb2\n",
    "            #print(\"Cost =\", self.costFunction(X,y))\n",
    "            \n",
    "            cost.append(self.costFunction(X,y))\n",
    "        return cost"
   ]
  },
  {
   "cell_type": "markdown",
   "metadata": {},
   "source": [
    "# Training on simple data"
   ]
  },
  {
   "cell_type": "code",
   "execution_count": 18,
   "metadata": {},
   "outputs": [],
   "source": [
    "X = np.array(([1], [2], [3], [4], [5], [6], [7]), dtype=float)\n",
    "y = np.array(([1.0], [3.0], [3.0], [4.0], [2.0], [1.0], [4.0]), dtype=float)"
   ]
  },
  {
   "cell_type": "code",
   "execution_count": 19,
   "metadata": {},
   "outputs": [],
   "source": [
    "NN = Neural_Network()"
   ]
  },
  {
   "cell_type": "code",
   "execution_count": 20,
   "metadata": {},
   "outputs": [],
   "source": [
    "cost1 = NN.costFunction(X,y)"
   ]
  },
  {
   "cell_type": "code",
   "execution_count": 21,
   "metadata": {},
   "outputs": [],
   "source": [
    "cost = NN.train(0.002)"
   ]
  },
  {
   "cell_type": "markdown",
   "metadata": {},
   "source": [
    "### Comparison of Predicted and Actual output"
   ]
  },
  {
   "cell_type": "code",
   "execution_count": 22,
   "metadata": {},
   "outputs": [
    {
     "name": "stdout",
     "output_type": "stream",
     "text": [
      "original output =  [[1. 3. 3. 4. 2. 1. 4.]]\n",
      "Predicted output =  [[1.00818551 3.00053345 3.03154545 4.00499149 2.03076315 1.03201627\n",
      "  4.03830367]]\n"
     ]
    }
   ],
   "source": [
    "print(\"original output = \", y.T)\n",
    "print(\"Predicted output = \", NN.forward(X).T[:])"
   ]
  },
  {
   "cell_type": "markdown",
   "metadata": {},
   "source": [
    "### M.S.E."
   ]
  },
  {
   "cell_type": "code",
   "execution_count": 23,
   "metadata": {},
   "outputs": [
    {
     "name": "stdout",
     "output_type": "stream",
     "text": [
      "error =  [0.00226295]\n"
     ]
    }
   ],
   "source": [
    "print(\"error = \", NN.costFunction(X,y))"
   ]
  },
  {
   "cell_type": "markdown",
   "metadata": {},
   "source": [
    "### Plotting the Cost"
   ]
  },
  {
   "cell_type": "code",
   "execution_count": 24,
   "metadata": {},
   "outputs": [
    {
     "data": {
      "image/png": "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\n",
      "text/plain": [
       "<matplotlib.figure.Figure at 0x23741f59a90>"
      ]
     },
     "metadata": {},
     "output_type": "display_data"
    }
   ],
   "source": [
    "plt.plot(cost)\n",
    "plt.show()"
   ]
  },
  {
   "cell_type": "markdown",
   "metadata": {},
   "source": [
    "# Training on Sin function "
   ]
  },
  {
   "cell_type": "code",
   "execution_count": 3,
   "metadata": {},
   "outputs": [],
   "source": [
    "X = np.arange(1,20,0.1).reshape(190, 1)"
   ]
  },
  {
   "cell_type": "code",
   "execution_count": 5,
   "metadata": {},
   "outputs": [],
   "source": [
    "y = np.sin(X).reshape(190, 1)"
   ]
  },
  {
   "cell_type": "code",
   "execution_count": 6,
   "metadata": {},
   "outputs": [],
   "source": [
    "NN2 = Neural_Network()"
   ]
  },
  {
   "cell_type": "code",
   "execution_count": 7,
   "metadata": {},
   "outputs": [],
   "source": [
    "cost = NN2.train(0.0001)"
   ]
  },
  {
   "cell_type": "markdown",
   "metadata": {},
   "source": [
    "### M.S.E. "
   ]
  },
  {
   "cell_type": "code",
   "execution_count": 8,
   "metadata": {},
   "outputs": [
    {
     "name": "stdout",
     "output_type": "stream",
     "text": [
      "error =  [27.69056351]\n"
     ]
    }
   ],
   "source": [
    "print(\"error = \", NN2.costFunction(X,y))"
   ]
  },
  {
   "cell_type": "markdown",
   "metadata": {},
   "source": [
    "### Ploting the cost"
   ]
  },
  {
   "cell_type": "code",
   "execution_count": 9,
   "metadata": {},
   "outputs": [
    {
     "data": {
      "image/png": "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\n",
      "text/plain": [
       "<matplotlib.figure.Figure at 0x23741f59e10>"
      ]
     },
     "metadata": {},
     "output_type": "display_data"
    }
   ],
   "source": [
    "plt.plot(cost)\n",
    "plt.show()"
   ]
  },
  {
   "cell_type": "code",
   "execution_count": null,
   "metadata": {},
   "outputs": [],
   "source": []
  },
  {
   "cell_type": "code",
   "execution_count": null,
   "metadata": {},
   "outputs": [],
   "source": []
  }
 ],
 "metadata": {
  "kernelspec": {
   "display_name": "Python 3",
   "language": "python",
   "name": "python3"
  },
  "language_info": {
   "codemirror_mode": {
    "name": "ipython",
    "version": 3
   },
   "file_extension": ".py",
   "mimetype": "text/x-python",
   "name": "python",
   "nbconvert_exporter": "python",
   "pygments_lexer": "ipython3",
   "version": "3.6.4"
  }
 },
 "nbformat": 4,
 "nbformat_minor": 2
}
